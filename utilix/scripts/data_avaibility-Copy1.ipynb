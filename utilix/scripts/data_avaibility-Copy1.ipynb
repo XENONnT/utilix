{
 "cells": [
  {
   "cell_type": "code",
   "execution_count": null,
   "id": "aaedcf58-0ddb-40f9-b9b9-ab9bde5a9456",
   "metadata": {},
   "outputs": [],
   "source": [
    "print_imported_modules()"
   ]
  },
  {
   "cell_type": "code",
   "execution_count": null,
   "id": "b6dc9f89-292d-4cd5-9a69-6c2b5a40baf1",
   "metadata": {},
   "outputs": [],
   "source": [
    "import strax, straxen #, cutax\n",
    "straxen.print_versions()"
   ]
  },
  {
   "cell_type": "code",
   "execution_count": null,
   "id": "73c1e08e-c75b-4edb-8587-116820f5dffd",
   "metadata": {},
   "outputs": [],
   "source": [
    "st = straxen.contexts.xenonnt_online(output_folder='/project2/lgrandi/giovo/strax_data')\n",
    "st.storage"
   ]
  },
  {
   "cell_type": "code",
   "execution_count": null,
   "id": "c551a1a9-99b2-4d61-969b-befa1a490448",
   "metadata": {},
   "outputs": [],
   "source": [
    "selection = st.select_runs(# run_mode = ('background_linked', 'background_tpc_nv', 'background_tpc_mv', 'tpc_bkg'),\n",
    "                           available=('event_basics'),\n",
    "                           # include_tags=('*sr2*'),\n",
    "                           # exclude_tags = ('flash', 'ramp_up', 'ramp_down', 'anode_off', 'abandon', 'hot_spot', 'missing_one_pmt', 'messy', 'bad')\n",
    "                          )"
   ]
  },
  {
   "cell_type": "code",
   "execution_count": null,
   "id": "367043c2-4d63-43c6-97a4-748130a7d718",
   "metadata": {},
   "outputs": [],
   "source": [
    "selection"
   ]
  },
  {
   "cell_type": "raw",
   "id": "95808fe7-833c-492a-9099-c478cb38e4f0",
   "metadata": {},
   "source": [
    "st = cutax.contexts.xenonnt_offline(_rucio_local_path='/project/lgrandi/rucio', include_rucio_local = True, output_folder='/project2/lgrandi/giovo/strax_data')\n",
    "st.storage"
   ]
  },
  {
   "cell_type": "raw",
   "id": "a6e98e5d-535e-4b33-8914-0d749c8c2d5a",
   "metadata": {},
   "source": [
    "st.config"
   ]
  },
  {
   "cell_type": "raw",
   "id": "6b3b040f-513f-4516-b9e6-1511930854ea",
   "metadata": {},
   "source": [
    "st.print_registered_cut_versions()"
   ]
  },
  {
   "cell_type": "code",
   "execution_count": null,
   "id": "96cf11cc-1914-4983-b3f7-59be901adf26",
   "metadata": {},
   "outputs": [],
   "source": [
    "selection = st.select_runs(run_mode = ('background_linked', 'background_tpc_nv', 'background_tpc_mv', 'tpc_bkg'),\n",
    "                           available=('lone_hits'),\n",
    "                           include_tags=('*sr2*'),\n",
    "                           # exclude_tags = ('flash', 'ramp_up', 'ramp_down', 'anode_off', 'abandon', 'hot_spot', 'missing_one_pmt', 'messy', 'bad')\n",
    "                          )"
   ]
  },
  {
   "cell_type": "code",
   "execution_count": null,
   "id": "99039052-669f-4050-8aa6-0027470b91f4",
   "metadata": {
    "scrolled": true
   },
   "outputs": [],
   "source": [
    "selection.head()"
   ]
  },
  {
   "cell_type": "code",
   "execution_count": null,
   "id": "0f566a25-328d-44e7-b3ce-2472a6a5c569",
   "metadata": {},
   "outputs": [],
   "source": [
    "len(selection)"
   ]
  },
  {
   "cell_type": "code",
   "execution_count": null,
   "id": "c2e2779d-e04c-4831-8481-f6c60faea125",
   "metadata": {},
   "outputs": [],
   "source": [
    "python3 /home/gvolta/XENONnT/utilix/utilix/scripts/xefind.py --source none --science_run sr2"
   ]
  },
  {
   "cell_type": "code",
   "execution_count": null,
   "id": "61c50845-886c-4add-b271-d05b826f3464",
   "metadata": {},
   "outputs": [],
   "source": []
  }
 ],
 "metadata": {
  "kernelspec": {
   "display_name": "Python 3 (ipykernel)",
   "language": "python",
   "name": "python3"
  },
  "language_info": {
   "codemirror_mode": {
    "name": "ipython",
    "version": 3
   },
   "file_extension": ".py",
   "mimetype": "text/x-python",
   "name": "python",
   "nbconvert_exporter": "python",
   "pygments_lexer": "ipython3",
   "version": "3.8.13"
  }
 },
 "nbformat": 4,
 "nbformat_minor": 5
}
